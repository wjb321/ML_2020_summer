{
 "cells": [
  {
   "cell_type": "code",
   "execution_count": 5,
   "metadata": {},
   "outputs": [
    {
     "name": "stdout",
     "output_type": "stream",
     "text": [
      "   M  0.455  0.365  0.095   0.514  0.2245   0.101   0.15  15\n",
      "0  M  0.350  0.265  0.090  0.2255  0.0995  0.0485  0.070   7\n",
      "1  F  0.530  0.420  0.135  0.6770  0.2565  0.1415  0.210   9\n",
      "2  M  0.440  0.365  0.125  0.5160  0.2155  0.1140  0.155  10\n",
      "3  I  0.330  0.255  0.080  0.2050  0.0895  0.0395  0.055   7\n",
      "4  I  0.425  0.300  0.095  0.3515  0.1410  0.0775  0.120   8\n",
      "5  F  0.530  0.415  0.150  0.7775  0.2370  0.1415  0.330  20\n",
      "6  F  0.545  0.425  0.125  0.7680  0.2940  0.1495  0.260  16\n",
      "7  M  0.475  0.370  0.125  0.5095  0.2165  0.1125  0.165   9\n",
      "8  F  0.550  0.440  0.150  0.8945  0.3145  0.1510  0.320  19\n",
      "9  F  0.525  0.380  0.140  0.6065  0.1940  0.1475  0.210  14\n",
      "M          object\n",
      "0.455     float64\n",
      "0.365     float64\n",
      "0.095     float64\n",
      "0.514     float64\n",
      "0.2245    float64\n",
      "0.101     float64\n",
      "0.15      float64\n",
      "15          int64\n",
      "dtype: object\n",
      "data.describe:\n",
      "           0.455      0.365     0.095      0.514     0.2245      0.101  \\\n",
      "count  10.000000  10.000000  10.00000  10.000000  10.000000  10.000000   \n",
      "mean    0.470000   0.363500   0.12150   0.553100   0.205800   0.112300   \n",
      "std     0.081104   0.067743   0.02495   0.236575   0.076384   0.042701   \n",
      "min     0.330000   0.255000   0.08000   0.205000   0.089500   0.039500   \n",
      "25%     0.428750   0.316250   0.10250   0.391000   0.154250   0.086250   \n",
      "50%     0.500000   0.375000   0.12500   0.561250   0.216000   0.127750   \n",
      "75%     0.530000   0.418750   0.13875   0.745250   0.251625   0.146000   \n",
      "max     0.550000   0.440000   0.15000   0.894500   0.314500   0.151000   \n",
      "\n",
      "            0.15         15  \n",
      "count  10.000000  10.000000  \n",
      "mean    0.189500  11.900000  \n",
      "std     0.095203   4.954235  \n",
      "min     0.055000   7.000000  \n",
      "25%     0.128750   8.250000  \n",
      "50%     0.187500   9.500000  \n",
      "75%     0.247500  15.500000  \n",
      "max     0.330000  20.000000  \n",
      "0.455    -0.796069\n",
      "0.365    -0.664312\n",
      "0.095    -0.591277\n",
      "0.514    -0.237030\n",
      "0.2245   -0.285029\n",
      "0.101    -0.864847\n",
      "0.15      0.133996\n",
      "15        0.705050\n",
      "dtype: float64\n"
     ]
    }
   ],
   "source": [
    "from pandas import read_csv\n",
    "filename = '/Users/wangjiabin/ML_2020_summer/<ml with python practice>/cha_5_data_understanding_1/abalone.data.csv'\n",
    "data0 = read_csv(filename)\n",
    "\n",
    "#.head()表示获取数据的前多少行数据\n",
    "data = read_csv(filename).head(10)\n",
    "print(data)\n",
    "print(data.dtypes)\n",
    "print('data.describe:')\n",
    "print(data.describe())\n",
    "#data.skew()表示数据左偏还是右偏。当数据接近0的时候，表示数据偏差很小。\n",
    "print(data.skew())\n",
    "#print(data0.groupby('class').size())"
   ]
  },
  {
   "cell_type": "code",
   "execution_count": null,
   "metadata": {},
   "outputs": [],
   "source": []
  },
  {
   "cell_type": "code",
   "execution_count": null,
   "metadata": {},
   "outputs": [],
   "source": []
  }
 ],
 "metadata": {
  "kernelspec": {
   "display_name": "Python 3",
   "language": "python",
   "name": "python3"
  },
  "language_info": {
   "codemirror_mode": {
    "name": "ipython",
    "version": 3
   },
   "file_extension": ".py",
   "mimetype": "text/x-python",
   "name": "python",
   "nbconvert_exporter": "python",
   "pygments_lexer": "ipython3",
   "version": "3.8.3"
  }
 },
 "nbformat": 4,
 "nbformat_minor": 4
}
