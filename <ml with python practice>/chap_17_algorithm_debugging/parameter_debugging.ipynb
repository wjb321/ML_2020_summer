{
 "cells": [
  {
   "cell_type": "markdown",
   "metadata": {},
   "source": [
    "1.machine learning parameters debugging. there are two types of parameters:  \n",
    "1)influence accuracy and avoid overfitting when train the model.  \n",
    "2)do not influence these two.  \n",
    "经过参数调整，最终达到的目的是：accuracy and overfitting 之间的平衡。  \n",
    "algorithm：grid search and random search."
   ]
  },
  {
   "cell_type": "markdown",
   "metadata": {},
   "source": [
    "**1)grid search**: it is a parameter optimization method. it traverse defined parameter list to evaluate algorithm parameters so as to find the optimal parameter."
   ]
  },
  {
   "cell_type": "code",
   "execution_count": 5,
   "metadata": {},
   "outputs": [
    {
     "name": "stdout",
     "output_type": "stream",
     "text": [
      "highest score:0.276\n",
      "optimal parameters:1\n"
     ]
    }
   ],
   "source": [
    "from pandas import read_csv\n",
    "from sklearn.linear_model import Ridge\n",
    "from sklearn.model_selection import GridSearchCV\n",
    "filename ='/Users/wangjiabin/ML_2020_summer/<ml with python practice>/cha_7_data_visibility/pima_data.csv'\n",
    "columns =['Pregnancies', 'Glucose','BloodPressure','SkinThickness','Insulin','BMI','DiabetesPedigreeFunction','Age','Outcome']\n",
    "dataset = read_csv(filename)\n",
    "array = dataset.values\n",
    "#print(array.shape)\n",
    "X = array[:,0:8]\n",
    "Y = array[:,8]\n",
    "model = Ridge()\n",
    "param_grid = {'alpha':[1,0.1,0.01,0.001,0]}\n",
    "grid = GridSearchCV(estimator =model, param_grid = param_grid)\n",
    "grid.fit(X,Y)\n",
    "print('highest score:%.3f'% grid.best_score_)\n",
    "print('optimal parameters:%s'% grid.best_estimator_.alpha)"
   ]
  },
  {
   "cell_type": "markdown",
   "metadata": {},
   "source": [
    "**2)random search** is another method for algorithm optimization method.random search uses random selection method and fixed iterations to get suitable parameters. compare with grid search, random search supplies a more efficient solution. random search define every parameter its own distribution function, and sample in this space."
   ]
  },
  {
   "cell_type": "code",
   "execution_count": 12,
   "metadata": {},
   "outputs": [
    {
     "name": "stdout",
     "output_type": "stream",
     "text": [
      "highest：0.276\n",
      "optimal parameters: 0.9\n"
     ]
    }
   ],
   "source": [
    "from sklearn.model_selection import RandomizedSearchCV\n",
    "from scipy.stats import uniform\n",
    "model = Ridge()\n",
    "param_grid = {'alpha':uniform()}\n",
    "grid = RandomizedSearchCV(estimator =model, param_distributions =param_grid, n_iter =100, random_state =7)\n",
    "grid.fit(X,Y)\n",
    "print('highest：%.3f'% grid.best_score_)\n",
    "print('optimal parameters: %.3s'% grid.best_estimator_.alpha)"
   ]
  },
  {
   "cell_type": "code",
   "execution_count": null,
   "metadata": {},
   "outputs": [],
   "source": []
  }
 ],
 "metadata": {
  "kernelspec": {
   "display_name": "Python 3",
   "language": "python",
   "name": "python3"
  },
  "language_info": {
   "codemirror_mode": {
    "name": "ipython",
    "version": 3
   },
   "file_extension": ".py",
   "mimetype": "text/x-python",
   "name": "python",
   "nbconvert_exporter": "python",
   "pygments_lexer": "ipython3",
   "version": "3.8.3"
  }
 },
 "nbformat": 4,
 "nbformat_minor": 4
}
