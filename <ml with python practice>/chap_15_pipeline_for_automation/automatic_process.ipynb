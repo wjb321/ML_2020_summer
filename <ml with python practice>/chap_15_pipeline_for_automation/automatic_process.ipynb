{
 "cells": [
  {
   "cell_type": "markdown",
   "metadata": {},
   "source": [
    "some standard procesess can realize the func that can solve ml problem automatically.   \n",
    "**Pipeline:**can automatically solve ml problems in data transfer and model evaluation.\n",
    "\n",
    "**1)Pipeline for data preparation and model generation**  \n",
    "in machine leanrning, there is a common problem that the data between training set and evalutation set has leakage,which can greatly influence accuracy of prediction. in order to avoid this problem, we need a suitable way to seperate the data into train and test sets, which is contained in the data prepration part.**Pipeline** can solve the leakage problem, normally it can do the same process to all the data sets, like normalization. so how to use pipeline to solve this problem?  \n",
    "1.1)normalization  \n",
    "1.2)train a lda analysis model.  "
   ]
  },
  {
   "cell_type": "code",
   "execution_count": 18,
   "metadata": {},
   "outputs": [
    {
     "name": "stdout",
     "output_type": "stream",
     "text": [
      "(768, 8)\n",
      "(768,)\n",
      "0.7669685577580315\n"
     ]
    }
   ],
   "source": [
    "from pandas import read_csv\n",
    "from sklearn.model_selection import KFold\n",
    "from sklearn.model_selection import cross_val_score\n",
    "from sklearn.preprocessing import StandardScaler\n",
    "from sklearn.pipeline import Pipeline \n",
    "from sklearn.discriminant_analysis import LinearDiscriminantAnalysis\n",
    "filename ='/Users/wangjiabin/ML_2020_summer/<ml with python practice>/cha_7_data_visibility/pima_data.csv'\n",
    "columns =['Pregnancies', 'Glucose','BloodPressure','SkinThickness','Insulin','BMI','DiabetesPedigreeFunction','Age','Outcome']\n",
    "dataset = read_csv(filename)\n",
    "array = dataset.values\n",
    "#print(array.shape)\n",
    "X = array[:,0:8]\n",
    "Y = array[:,8]\n",
    "print(X.shape)\n",
    "print(Y.shape)\n",
    "num_folds = 10\n",
    "seed =7\n",
    "kfold = KFold(n_splits =num_folds,shuffle =True, random_state =seed)\n",
    "steps =[]\n",
    "steps.append(('Standardize',StandardScaler()))\n",
    "steps.append(('lda',LinearDiscriminantAnalysis()))\n",
    "model =Pipeline(steps)\n",
    "result = cross_val_score(model, X,Y,cv =kfold)\n",
    "print(result.mean())"
   ]
  },
  {
   "cell_type": "markdown",
   "metadata": {},
   "source": [
    "2.pipeline for feature selection and model generation  \n",
    "2.1)feature selection is also one process that can be influenced by leakage. same like data preparation, feature selection should keep the data suitable, as for this, pipeline supplies a tool name Feature Union so as to keep data stable when feature selection. below is the steps:\n",
    "1)feature selection using PCA()   \n",
    "2)use statistic to select features  \n",
    "3)features set  \n",
    "4)generate a regression model  \n"
   ]
  },
  {
   "cell_type": "code",
   "execution_count": 19,
   "metadata": {},
   "outputs": [
    {
     "name": "stdout",
     "output_type": "stream",
     "text": [
      "0.773462064251538\n"
     ]
    }
   ],
   "source": [
    "from sklearn.pipeline import FeatureUnion, Pipeline\n",
    "from sklearn.linear_model import LogisticRegression\n",
    "from sklearn.decomposition import PCA\n",
    "from sklearn.feature_selection import SelectKBest\n",
    "filename ='/Users/wangjiabin/ML_2020_summer/<ml with python practice>/cha_7_data_visibility/pima_data.csv'\n",
    "columns =['Pregnancies', 'Glucose','BloodPressure','SkinThickness','Insulin','BMI','DiabetesPedigreeFunction','Age','Outcome']\n",
    "dataset = read_csv(filename)\n",
    "array = dataset.values\n",
    "X = array[:,0:8]\n",
    "Y = array[:,8]\n",
    "num_folds = 10\n",
    "seed = 7\n",
    "kfold = KFold(n_splits =num_folds,shuffle =True,random_state =seed)\n",
    "\n",
    "\n",
    "features = []\n",
    "features.append(('pca',PCA()))\n",
    "features.append(('select_best',SelectKBest(k=6)))\n",
    "#k is number of top features to select\n",
    "\n",
    "steps =[]\n",
    "steps.append(('feature_union',FeatureUnion(features)))\n",
    "steps.append(('logistic',LogisticRegression(solver='lbfgs',max_iter=999)))\n",
    "model =Pipeline(steps)\n",
    "result = cross_val_score(model, X,Y,cv=kfold)\n",
    "print(result.mean())"
   ]
  },
  {
   "cell_type": "code",
   "execution_count": null,
   "metadata": {},
   "outputs": [],
   "source": []
  },
  {
   "cell_type": "code",
   "execution_count": null,
   "metadata": {},
   "outputs": [],
   "source": []
  }
 ],
 "metadata": {
  "kernelspec": {
   "display_name": "Python 3",
   "language": "python",
   "name": "python3"
  },
  "language_info": {
   "codemirror_mode": {
    "name": "ipython",
    "version": 3
   },
   "file_extension": ".py",
   "mimetype": "text/x-python",
   "name": "python",
   "nbconvert_exporter": "python",
   "pygments_lexer": "ipython3",
   "version": "3.8.3"
  }
 },
 "nbformat": 4,
 "nbformat_minor": 4
}
