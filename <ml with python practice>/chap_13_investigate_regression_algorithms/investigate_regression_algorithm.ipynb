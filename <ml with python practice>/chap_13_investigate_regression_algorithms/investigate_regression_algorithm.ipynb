{
 "cells": [
  {
   "cell_type": "markdown",
   "metadata": {},
   "source": [
    "here are several regression algorithms:  \n",
    "**1.linear regression**  \n",
    "1)linear regression  \n",
    "2)ridge regression  \n",
    "3)lasso regression  \n",
    "4)Elastic Net regression  \n"
   ]
  },
  {
   "cell_type": "code",
   "execution_count": 34,
   "metadata": {},
   "outputs": [
    {
     "name": "stdout",
     "output_type": "stream",
     "text": [
      "        PRIM    ZN  INDUS  CHAS    NOX     RM   AGE     DIS  RAD    TAX  \\\n",
      "0    0.00632  18.0   2.31     0  0.538  6.575  65.2  4.0900    1  296.0   \n",
      "1    0.02731   0.0   7.07     0  0.469  6.421  78.9  4.9671    2  242.0   \n",
      "2    0.02729   0.0   7.07     0  0.469  7.185  61.1  4.9671    2  242.0   \n",
      "3    0.03237   0.0   2.18     0  0.458  6.998  45.8  6.0622    3  222.0   \n",
      "4    0.06905   0.0   2.18     0  0.458  7.147  54.2  6.0622    3  222.0   \n",
      "..       ...   ...    ...   ...    ...    ...   ...     ...  ...    ...   \n",
      "501  0.06263   0.0  11.93     0  0.573  6.593  69.1  2.4786    1  273.0   \n",
      "502  0.04527   0.0  11.93     0  0.573  6.120  76.7  2.2875    1  273.0   \n",
      "503  0.06076   0.0  11.93     0  0.573  6.976  91.0  2.1675    1  273.0   \n",
      "504  0.10959   0.0  11.93     0  0.573  6.794  89.3  2.3889    1  273.0   \n",
      "505  0.04741   0.0  11.93     0  0.573  6.030  80.8  2.5050    1  273.0   \n",
      "\n",
      "     RATATIO       B  LATAT  MEDV  \n",
      "0       15.3  396.90   4.98  24.0  \n",
      "1       17.8  396.90   9.14  21.6  \n",
      "2       17.8  392.83   4.03  34.7  \n",
      "3       18.7  394.63   2.94  33.4  \n",
      "4       18.7  396.90   5.33  36.2  \n",
      "..       ...     ...    ...   ...  \n",
      "501     21.0  391.99   9.67  22.4  \n",
      "502     21.0  396.90   9.08  20.6  \n",
      "503     21.0  396.90   5.64  23.9  \n",
      "504     21.0  393.45   6.48  22.0  \n",
      "505     21.0  396.90   7.88  11.9  \n",
      "\n",
      "[506 rows x 14 columns]\n",
      "data_shape (506, 14)\n",
      "X.shape: (506, 13)\n",
      "Y.shape: (506,)\n",
      "(506, 13)\n",
      "(506,)\n",
      "MSE: -23.747(11.143)\n"
     ]
    }
   ],
   "source": [
    "from pandas import read_csv\n",
    "import numpy as np\n",
    "from sklearn.model_selection import KFold, cross_val_score #, LogisticRegression\n",
    "from sklearn.linear_model import LinearRegression\n",
    "\n",
    "#filename = '/Users/wangjiabin/ML_2020_summer/<ml with python practice>/cha_7_data_visibility/pima_data.csv'\n",
    "filename = '/Users/wangjiabin/ML_2020_summer/<ml with python practice>/chap_11_metric_for _algorithm_evaluation/housing.csv'\n",
    "#'/Users/wangjiabin/ML_2020_summer/<ml with python practice>/cha_7_data_visibility/pima_data.csv'\n",
    "names =['PRIM','ZN','INDUS','CHAS','NOX','RM','AGE','DIS','RAD','TAX','RATATIO','B','LATAT','MEDV']\n",
    "data = read_csv(filename,delim_whitespace =True,names =names)#\n",
    "print(data)\n",
    "#deliml_whitespace: If this option is set to True, nothing should be passed in for the delimiter parameter.\n",
    "print('data_shape',data.shape)\n",
    "array =data.values\n",
    "X = array[:,0:13]\n",
    "print('X.shape:',X.shape)\n",
    "Y = array[:,13]\n",
    "print('Y.shape:',Y.shape)\n",
    "n_splits =10\n",
    "seed = 7\n",
    "print(X.shape)\n",
    "print(Y.shape)\n",
    "kfold =KFold(n_splits =n_splits, shuffle =True, random_state = seed)\n",
    "model = LinearRegression()\n",
    "scoring = 'neg_mean_squared_error' #''neg_mean_squared_error'  'neg_mean_squared_error'\n",
    "result = cross_val_score(model, X,Y,cv =kfold, scoring = scoring)\n",
    "print('MSE: %.3f(%.3f)'% (result.mean(),result.std()))"
   ]
  },
  {
   "cell_type": "code",
   "execution_count": 35,
   "metadata": {},
   "outputs": [
    {
     "name": "stdout",
     "output_type": "stream",
     "text": [
      "-23.88989018505344\n"
     ]
    }
   ],
   "source": [
    "from sklearn.linear_model import Ridge\n",
    "model = Ridge()\n",
    "scoring = 'neg_mean_squared_error'\n",
    "result = cross_val_score(model,X,Y,cv=kfold, scoring =scoring)\n",
    "print(result.mean())"
   ]
  },
  {
   "cell_type": "code",
   "execution_count": 36,
   "metadata": {},
   "outputs": [
    {
     "name": "stdout",
     "output_type": "stream",
     "text": [
      "-28.745890075851538\n"
     ]
    }
   ],
   "source": [
    "from sklearn.linear_model import Lasso\n",
    "model = Lasso()\n",
    "scoring = 'neg_mean_squared_error'\n",
    "result = cross_val_score(model, X,Y,cv= kfold, scoring =scoring)\n",
    "print(result.mean())"
   ]
  },
  {
   "cell_type": "code",
   "execution_count": 37,
   "metadata": {},
   "outputs": [
    {
     "name": "stdout",
     "output_type": "stream",
     "text": [
      "-27.90842036023106\n"
     ]
    }
   ],
   "source": [
    "from sklearn.linear_model import ElasticNet\n",
    "model = ElasticNet()\n",
    "scoring = 'neg_mean_squared_error'\n",
    "result = cross_val_score(model, X,Y,cv= kfold, scoring =scoring)\n",
    "print(result.mean())"
   ]
  },
  {
   "cell_type": "markdown",
   "metadata": {},
   "source": [
    "**2.Non_linear regression**"
   ]
  },
  {
   "cell_type": "code",
   "execution_count": 38,
   "metadata": {},
   "outputs": [
    {
     "name": "stdout",
     "output_type": "stream",
     "text": [
      "0.5094444355002923\n"
     ]
    }
   ],
   "source": [
    "from sklearn.neighbors import KNeighborsRegressor\n",
    "model = KNeighborsRegressor()\n",
    "result = cross_val_score(model, X,Y,cv = kfold)\n",
    "print(result.mean())"
   ]
  },
  {
   "cell_type": "code",
   "execution_count": 39,
   "metadata": {},
   "outputs": [
    {
     "name": "stdout",
     "output_type": "stream",
     "text": [
      "-71.85800739156483\n"
     ]
    }
   ],
   "source": [
    "from sklearn.svm import SVR\n",
    "model = SVR()\n",
    "result = cross_val_score(model, X,Y, scoring = scoring)\n",
    "print(result.mean())"
   ]
  },
  {
   "cell_type": "code",
   "execution_count": null,
   "metadata": {},
   "outputs": [],
   "source": []
  },
  {
   "cell_type": "code",
   "execution_count": null,
   "metadata": {},
   "outputs": [],
   "source": []
  }
 ],
 "metadata": {
  "kernelspec": {
   "display_name": "Python 3",
   "language": "python",
   "name": "python3"
  },
  "language_info": {
   "codemirror_mode": {
    "name": "ipython",
    "version": 3
   },
   "file_extension": ".py",
   "mimetype": "text/x-python",
   "name": "python",
   "nbconvert_exporter": "python",
   "pygments_lexer": "ipython3",
   "version": "3.8.3"
  }
 },
 "nbformat": 4,
 "nbformat_minor": 4
}
