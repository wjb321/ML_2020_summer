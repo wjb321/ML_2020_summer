{
 "cells": [
  {
   "cell_type": "code",
   "execution_count": 17,
   "metadata": {},
   "outputs": [],
   "source": [
    "from pandas import read_csv\n",
    "from sklearn.model_selection import KFold, cross_val_score #, LogisticRegression\n",
    "from sklearn.linear_model import LogisticRegression\n",
    "from sklearn.discriminant_analysis import LinearDiscriminantAnalysis\n",
    "from sklearn.svm import SVC\n",
    "from sklearn.naive_bayes import GaussianNB\n",
    "from sklearn.tree import DecisionTreeClassifier\n",
    "from sklearn.neighbors import KNeighborsClassifier\n",
    "from matplotlib import pyplot"
   ]
  },
  {
   "cell_type": "code",
   "execution_count": 18,
   "metadata": {},
   "outputs": [
    {
     "name": "stdout",
     "output_type": "stream",
     "text": [
      "(768, 8)\n",
      "(768,)\n",
      "LR: 0.772(0.050)\n",
      "LDA: 0.767(0.048)\n",
      "KNN: 0.711(0.051)\n",
      "CART: 0.693(0.040)\n",
      "SVM: 0.760(0.035)\n",
      "NB: 0.759(0.039)\n"
     ]
    },
    {
     "data": {
      "image/png": "[encoded data removed]",
      "text/plain": [
       "<Figure size 432x288 with 1 Axes>"
      ]
     },
     "metadata": {
      "needs_background": "light"
     },
     "output_type": "display_data"
    }
   ],
   "source": [
    "filename ='/Users/wangjiabin/ML_2020_summer/<ml with python practice>/cha_7_data_visibility/pima_data.csv'\n",
    "columns =['Pregnancies', 'Glucose','BloodPressure','SkinThickness','Insulin','BMI','DiabetesPedigreeFunction','Age','Outcome']\n",
    "dataset = read_csv(filename)\n",
    "array = dataset.values\n",
    "#print(array.shape)\n",
    "X = array[:,0:8]\n",
    "Y = array[:,8]\n",
    "print(X.shape)\n",
    "print(Y.shape)\n",
    "num_folds = 10\n",
    "seed =7\n",
    "kfold = KFold(n_splits =num_folds,shuffle =True, random_state =seed)\n",
    "models = {}\n",
    "models['LR'] = LogisticRegression(solver='lbfgs',max_iter=999)\n",
    "models['LDA'] = LinearDiscriminantAnalysis()\n",
    "models['KNN'] = KNeighborsClassifier()\n",
    "models['CART'] = DecisionTreeClassifier()\n",
    "models['SVM'] = SVC()\n",
    "models['NB'] = GaussianNB()\n",
    "results = []\n",
    "for name in models:\n",
    "    result = cross_val_score(models[name],X,Y,cv =kfold)\n",
    "    results.append(result)\n",
    "    vals = '%s: %.3f(%.3f)'%(name, result.mean(),result.std())\n",
    "    print(vals)\n",
    "fig = pyplot.figure()\n",
    "fig.suptitle('algorithm comparison')\n",
    "ax = fig.add_subplot(111)\n",
    "pyplot.boxplot(results)\n",
    "ax.set_xticklabels(models.keys())\n",
    "pyplot.show()"
   ]
  },
  {
   "cell_type": "code",
   "execution_count": null,
   "metadata": {},
   "outputs": [],
   "source": [
    "\n"
   ]
  }
 ],
 "metadata": {
  "kernelspec": {
   "display_name": "Python 3",
   "language": "python",
   "name": "python3"
  },
  "language_info": {
   "codemirror_mode": {
    "name": "ipython",
    "version": 3
   },
   "file_extension": ".py",
   "mimetype": "text/x-python",
   "name": "python",
   "nbconvert_exporter": "python",
   "pygments_lexer": "ipython3",
   "version": "3.8.3"
  }
 },
 "nbformat": 4,
 "nbformat_minor": 4
}
