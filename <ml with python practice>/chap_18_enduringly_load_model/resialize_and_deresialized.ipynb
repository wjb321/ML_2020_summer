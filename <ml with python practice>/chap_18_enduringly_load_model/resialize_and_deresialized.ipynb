{
 "cells": [
  {
   "cell_type": "markdown",
   "metadata": {},
   "source": [
    "1.find a algorithm that can build a high accuracy model is not the final step, actually, in real project,we need make the model in sequence order, and release it in production environment. and when there is new data, so we need to Deserialize the saved model, and predict the new data.  \n",
    "here are several contents:  \n",
    "1)importance of model sequence and reuse  \n",
    "2)how to use pickle to sequence and dererialize ml model  \n",
    "3)how to use joblib to serialize and deserialize model"
   ]
  },
  {
   "cell_type": "markdown",
   "metadata": {},
   "source": [
    "**1)pickle: serialize and deserialize**"
   ]
  },
  {
   "cell_type": "code",
   "execution_count": 16,
   "metadata": {},
   "outputs": [],
   "source": [
    "from pandas import read_csv\n",
    "from sklearn.model_selection import train_test_split\n",
    "from sklearn.linear_model import LogisticRegression\n",
    "from pickle import dump\n",
    "from pickle import load"
   ]
  },
  {
   "cell_type": "code",
   "execution_count": 19,
   "metadata": {},
   "outputs": [],
   "source": [
    "filename ='/Users/wangjiabin/ML_2020_summer/<ml with python practice>/cha_7_data_visibility/pima_data.csv'\n",
    "columns =['Pregnancies', 'Glucose','BloodPressure','SkinThickness','Insulin','BMI','DiabetesPedigreeFunction','Age','Outcome']\n",
    "dataset = read_csv(filename)\n",
    "array = dataset.values\n",
    "#print(array.shape)\n",
    "X = array[:,0:8]\n",
    "Y = array[:,8]\n",
    "test_size = 0.33\n",
    "seed =4\n",
    "X_train,X_test,Y_train,Y_test = train_test_split(X,Y,test_size =test_size,random_state = seed)"
   ]
  },
  {
   "cell_type": "code",
   "execution_count": 24,
   "metadata": {},
   "outputs": [
    {
     "name": "stdout",
     "output_type": "stream",
     "text": [
      "algorithm evaluation:80.315%\n"
     ]
    }
   ],
   "source": [
    "model = LogisticRegression(solver='lbfgs',max_iter=999)\n",
    "model.fit(X_train,Y_train)\n",
    "model_file ='/Users/wangjiabin/ML_2020_summer/<ml with python practice>/chap_18_enduringly_load_model/final_model.csv'\n",
    "with open(model_file,'wb') as model_f:\n",
    "    dump(model,model_f)\n",
    "with open(model_file,'rb') as model_f:\n",
    "    loaded_model =load(model_f)\n",
    "    result =loaded_model.score(X_test,Y_test)\n",
    "    print('algorithm evaluation:%.3f%%'%(result*100))"
   ]
  },
  {
   "cell_type": "markdown",
   "metadata": {},
   "source": [
    "**2)technique for model building**"
   ]
  },
  {
   "cell_type": "markdown",
   "metadata": {},
   "source": [
    "讨论应该注意一下相关的几个问题：  \n",
    "1）Python版本，在进行序列化和反序列化模型时候，需要相同的版本  \n",
    "2）类库版本，相关的类库是要一致的  \n",
    "3）手动序列化：需要手动序列化算法参数，这样可以直接在scikit和或者其他平台上面重现这个模型。"
   ]
  },
  {
   "cell_type": "markdown",
   "metadata": {},
   "source": []
  }
 ],
 "metadata": {
  "kernelspec": {
   "display_name": "Python 3",
   "language": "python",
   "name": "python3"
  },
  "language_info": {
   "codemirror_mode": {
    "name": "ipython",
    "version": 3
   },
   "file_extension": ".py",
   "mimetype": "text/x-python",
   "name": "python",
   "nbconvert_exporter": "python",
   "pygments_lexer": "ipython3",
   "version": "3.8.3"
  }
 },
 "nbformat": 4,
 "nbformat_minor": 4
}
