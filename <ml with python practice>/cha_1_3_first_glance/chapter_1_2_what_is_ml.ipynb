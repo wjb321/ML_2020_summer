{
 "cells": [
  {
   "cell_type": "markdown",
   "metadata": {},
   "source": [
    "# 1) First time to know ML"
   ]
  },
  {
   "cell_type": "markdown",
   "metadata": {},
   "source": [
    "**Supervised**:在学习中提供对错的指正。一般在数据组中包含最终结果（0，1），可以通过算法让误差减少。mainly used in **regression and classify** 监督学习从给定的训练数据集中学习出一个目标函数（object function）， 当新的数据来的时候，可以根据函数来预测最终结果。监督学习的训练集要求包括输入输出，也可以说包括特征和目标（features and target）"
   ]
  },
  {
   "cell_type": "markdown",
   "metadata": {},
   "source": [
    "**Unsupervised**归纳性学习，比如clustering： k-mean, DBSCAN "
   ]
  },
  {
   "cell_type": "markdown",
   "metadata": {},
   "source": [
    "# 2)Python-:Numpy, matplotlib and pandas"
   ]
  },
  {
   "cell_type": "markdown",
   "metadata": {},
   "source": [
    "**First**: scipy, there are libs:numpy, matplotlib and pandas.  \n",
    "       Numpy: for data calculation, matplot for diagram, pandas for data extraction.  "
   ]
  },
  {
   "cell_type": "code",
   "execution_count": 8,
   "metadata": {},
   "outputs": [
    {
     "name": "stdout",
     "output_type": "stream",
     "text": [
      "scipy:1.5.2\n",
      "numpy:1.18.5\n",
      "matplotlib:3.3.1\n",
      "pandas:1.1.1\n",
      "sklearn:0.23.2\n"
     ]
    }
   ],
   "source": [
    "import scipy\n",
    "import numpy \n",
    "import matplotlib\n",
    "import pandas\n",
    "import sklearn\n",
    "print('scipy:{}'.format(scipy.__version__))\n",
    "print('numpy:{}'.format(numpy.__version__))\n",
    "print('matplotlib:{}'.format(matplotlib.__version__))\n",
    "print('pandas:{}'.format(pandas.__version__))\n",
    "print('sklearn:{}'.format(sklearn.__version__))"
   ]
  },
  {
   "cell_type": "code",
   "execution_count": null,
   "metadata": {},
   "outputs": [],
   "source": []
  }
 ],
 "metadata": {
  "kernelspec": {
   "display_name": "Python 3",
   "language": "python",
   "name": "python3"
  },
  "language_info": {
   "codemirror_mode": {
    "name": "ipython",
    "version": 3
   },
   "file_extension": ".py",
   "mimetype": "text/x-python",
   "name": "python",
   "nbconvert_exporter": "python",
   "pygments_lexer": "ipython3",
   "version": "3.8.3"
  }
 },
 "nbformat": 4,
 "nbformat_minor": 4
}
