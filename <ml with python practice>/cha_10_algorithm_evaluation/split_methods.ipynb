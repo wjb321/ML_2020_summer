{
 "cells": [
  {
   "cell_type": "markdown",
   "metadata": {},
   "source": [
    "4 methods of data seperation  \n",
    "1)train and test data set seperation  \n",
    "2)k-folder cross-validation seperation  \n",
    "3)leave-one_cross validation  \n",
    "4)randomly evaluation and training data separation  \n",
    "normally, we used 67% ad training and 33% as evaluation.  \n"
   ]
  },
  {
   "cell_type": "markdown",
   "metadata": {},
   "source": [
    "**1)training and test data seperation**\n",
    "1)将数据分离：train_test_split()  \n",
    "2)构造模型 model = LogisticRegression(), 逻辑回归模型  \n",
    "3)模型适应性分析：model.fit(x_train, y_train)  \n",
    "4)模型分数，即fit后的模型，测试数据集模型的分数是多少"
   ]
  },
  {
   "cell_type": "code",
   "execution_count": 1,
   "metadata": {},
   "outputs": [
    {
     "name": "stdout",
     "output_type": "stream",
     "text": [
      "(768, 9)\n",
      "result of algorithm evaluation:80.315%\n"
     ]
    }
   ],
   "source": [
    "from pandas import read_csv\n",
    "from sklearn.model_selection import train_test_split\n",
    "from sklearn.linear_model import LogisticRegression\n",
    "filename ='/Users/wangjiabin/ML_2020_summer/<ml with python practice>/cha_7_data_visibility/pima_data.csv'\n",
    "columns =['Pregnancies', 'Glucose','BloodPressure','SkinThickness','Insulin','BMI','DiabetesPedigreeFunction','Age','Outcome']\n",
    "dataset = read_csv(filename)\n",
    "array = dataset.values\n",
    "print(array.shape)\n",
    "X =array[:,0:8]\n",
    "Y=array[:,8]\n",
    "test_size = 0.33\n",
    "seed =4\n",
    "X_train, X_test, Y_train, Y_test = train_test_split(X, Y, test_size=test_size, random_state=seed)\n",
    "model = LogisticRegression(solver='lbfgs',max_iter=999)\n",
    "model.fit(X_train, Y_train)\n",
    "result = model.score(X_test, Y_test)\n",
    "print('result of algorithm evaluation:%.3f%%'%(result*100))"
   ]
  },
  {
   "cell_type": "markdown",
   "metadata": {},
   "source": [
    "**2)k-folder cross-valiadation**  \n",
    "1）构造k-folder值，即将数据折叠多少次  \n",
    "2）Kfold,里面有参数n_splits，折叠次数， \n",
    "  shuffle: Whether to shuffle the data before splitting into batches. \n",
    "  Note that the samples within each split will not be shuffled.random_stateint or RandomState instance,default=None When shuffle is True, random_state affects the ordering of the indices,which controls the randomness of each fold. Otherwise, this parameter has no effect.Pass an int for reproducible output across multiple function calls.  \n",
    "3）构造模型， model=LogisticRegression()  \n",
    "4)result:cros_val_score(model,X,Y,cv=kfold)"
   ]
  },
  {
   "cell_type": "code",
   "execution_count": 2,
   "metadata": {},
   "outputs": [
    {
     "name": "stdout",
     "output_type": "stream",
     "text": [
      "result of the algorithmL 77.216 %( 4.968 %)\n"
     ]
    }
   ],
   "source": [
    "from sklearn.model_selection import KFold\n",
    "from sklearn.model_selection import cross_val_score\n",
    "from sklearn.linear_model import LogisticRegression\n",
    "num_folds =10\n",
    "seed = 7\n",
    "kfold = KFold(n_splits = num_folds, shuffle =True, random_state = seed)\n",
    "model = LogisticRegression(solver='lbfgs',max_iter=999)\n",
    "result =cross_val_score(model,X,Y,cv =kfold)\n",
    "print('result of the algorithmL %.3f %%( %.3f %%)'%(result.mean()*100, result.std()*100))"
   ]
  },
  {
   "cell_type": "markdown",
   "metadata": {},
   "source": [
    "**3)leave one out validation**"
   ]
  },
  {
   "cell_type": "code",
   "execution_count": 3,
   "metadata": {},
   "outputs": [
    {
     "name": "stdout",
     "output_type": "stream",
     "text": [
      "result of this algorithm:77.604%(41.689%)\n"
     ]
    }
   ],
   "source": [
    "from sklearn.model_selection import LeaveOneOut\n",
    "loocv =LeaveOneOut()\n",
    "model = LogisticRegression(solver='lbfgs',max_iter=999)\n",
    "result = cross_val_score(model, X,Y,cv =loocv)\n",
    "print('result of this algorithm:%.3f%%(%.3f%%)'% (result.mean()*100, result.std()*100))"
   ]
  },
  {
   "cell_type": "markdown",
   "metadata": {},
   "source": [
    "**4)random split**"
   ]
  },
  {
   "cell_type": "code",
   "execution_count": 4,
   "metadata": {},
   "outputs": [
    {
     "name": "stdout",
     "output_type": "stream",
     "text": [
      "result of algorith evaluation:76.535%(2.235%)\n"
     ]
    }
   ],
   "source": [
    "from sklearn.model_selection import ShuffleSplit\n",
    "n_splits = 10\n",
    "test_size =0.33\n",
    "seed  = 7\n",
    "kfold = ShuffleSplit(n_splits = n_splits, test_size =test_size, random_state = seed )\n",
    "model =LogisticRegression(solver='lbfgs',max_iter=999)\n",
    "result = cross_val_score(model, X,Y,cv=kfold)\n",
    "print('result of algorith evaluation:%.3f%%(%.3f%%)'%(result.mean()*100, result.std()*100))"
   ]
  },
  {
   "cell_type": "code",
   "execution_count": null,
   "metadata": {},
   "outputs": [],
   "source": []
  },
  {
   "cell_type": "code",
   "execution_count": null,
   "metadata": {},
   "outputs": [],
   "source": []
  },
  {
   "cell_type": "code",
   "execution_count": null,
   "metadata": {},
   "outputs": [],
   "source": []
  }
 ],
 "metadata": {
  "kernelspec": {
   "display_name": "Python 3",
   "language": "python",
   "name": "python3"
  },
  "language_info": {
   "codemirror_mode": {
    "name": "ipython",
    "version": 3
   },
   "file_extension": ".py",
   "mimetype": "text/x-python",
   "name": "python",
   "nbconvert_exporter": "python",
   "pygments_lexer": "ipython3",
   "version": "3.8.3"
  }
 },
 "nbformat": 4,
 "nbformat_minor": 4
}
