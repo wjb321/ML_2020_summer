{
 "cells": [
  {
   "cell_type": "markdown",
   "metadata": {},
   "source": [
    "# Multiple regression description\n",
    "\n",
    "多线性回归尝试去建立两个或者多个特性和反应之间的模型关系， 通过对应的观测数据去拟合一个线性等式。  \n",
    "**等式**：y = b0+ b1x1 +b2x2 +b3x3+....bnxn（xi是独立变量，y因变量）  \n",
    "**假设**：1，因变量和自变量的线性关系 2，homoscedasticity(同方差性）constant variance of the errors should be mantained 3，多变量的泛化，residuals are normally distributed. 4,缺乏共线性，假设存在很少或者没有共线性。共线性发生当特性是不独立的。  \n",
    "**步骤**：1）数据处理 2）对训练模型的拟合 3）结果预测。 \n",
    "**参考流程图**\n"
   ]
  },
  {
   "cell_type": "markdown",
   "metadata": {},
   "source": [
    "# Step 1, Data preprocessing"
   ]
  },
  {
   "cell_type": "code",
   "execution_count": 79,
   "metadata": {},
   "outputs": [],
   "source": [
    "import pandas as pd\n",
    "import numpy as np\n",
    "import matplotlib.pyplot as plt# matplotlib.pyplot as plt"
   ]
  },
  {
   "cell_type": "code",
   "execution_count": 80,
   "metadata": {},
   "outputs": [
    {
     "name": "stdout",
     "output_type": "stream",
     "text": [
      "(50, 5)\n",
      "[[165349.2 136897.8 471784.1 'New York']\n",
      " [162597.7 151377.59 443898.53 'California']\n",
      " [153441.51 101145.55 407934.54 'Florida']\n",
      " [144372.41 118671.85 383199.62 'New York']\n",
      " [142107.34 91391.77 366168.42 'Florida']\n",
      " [131876.9 99814.71 362861.36 'New York']\n",
      " [134615.46 147198.87 127716.82 'California']\n",
      " [130298.13 145530.06 323876.68 'Florida']\n",
      " [120542.52 148718.95 311613.29 'New York']\n",
      " [123334.88 108679.17 304981.62 'California']\n",
      " [101913.08 110594.11 229160.95 'Florida']\n",
      " [100671.96 91790.61 249744.55 'California']\n",
      " [93863.75 127320.38 249839.44 'Florida']\n",
      " [91992.39 135495.07 252664.93 'California']\n",
      " [119943.24 156547.42 256512.92 'Florida']\n",
      " [114523.61 122616.84 261776.23 'New York']\n",
      " [78013.11 121597.55 264346.06 'California']\n",
      " [94657.16 145077.58 282574.31 'New York']\n",
      " [91749.16 114175.79 294919.57 'Florida']\n",
      " [86419.7 153514.11 0.0 'New York']\n",
      " [76253.86 113867.3 298664.47 'California']\n",
      " [78389.47 153773.43 299737.29 'New York']\n",
      " [73994.56 122782.75 303319.26 'Florida']\n",
      " [67532.53 105751.03 304768.73 'Florida']\n",
      " [77044.01 99281.34 140574.81 'New York']\n",
      " [64664.71 139553.16 137962.62 'California']\n",
      " [75328.87 144135.98 134050.07 'Florida']\n",
      " [72107.6 127864.55 353183.81 'New York']\n",
      " [66051.52 182645.56 118148.2 'Florida']\n",
      " [65605.48 153032.06 107138.38 'New York']\n",
      " [61994.48 115641.28 91131.24 'Florida']\n",
      " [61136.38 152701.92 88218.23 'New York']\n",
      " [63408.86 129219.61 46085.25 'California']\n",
      " [55493.95 103057.49 214634.81 'Florida']\n",
      " [46426.07 157693.92 210797.67 'California']\n",
      " [46014.02 85047.44 205517.64 'New York']\n",
      " [28663.76 127056.21 201126.82 'Florida']\n",
      " [44069.95 51283.14 197029.42 'California']\n",
      " [20229.59 65947.93 185265.1 'New York']\n",
      " [38558.51 82982.09 174999.3 'California']\n",
      " [28754.33 118546.05 172795.67 'California']\n",
      " [27892.92 84710.77 164470.71 'Florida']\n",
      " [23640.93 96189.63 148001.11 'California']\n",
      " [15505.73 127382.3 35534.17 'New York']\n",
      " [22177.74 154806.14 28334.72 'California']\n",
      " [1000.23 124153.04 1903.93 'New York']\n",
      " [1315.46 115816.21 297114.46 'Florida']\n",
      " [0.0 135426.92 0.0 'California']\n",
      " [542.05 51743.15 0.0 'New York']\n",
      " [0.0 116983.8 45173.06 'California']]\n"
     ]
    }
   ],
   "source": [
    "dataset = pd.read_csv('/Users/wangjiabin/ML_2020_summer/multiple_LR/50_Startups.csv')\n",
    "print(dataset.shape)\n",
    "X = dataset.iloc[:,:-1].values #多变量，多features.当没有values的时候，打印的还是csv表格，当选择.values时候表示得到其值\n",
    "print(X)\n",
    "Y = dataset.iloc[:,4].values\n",
    "#print(Y)"
   ]
  },
  {
   "cell_type": "markdown",
   "metadata": {},
   "source": [
    "**Subtitle**:由于多变量数据中的x是有分类性，无值性的数据所以要进行categoricaltitle由于多变量数据中的x是有分类性，无值性的数据所以要进行categoricalsubteti data"
   ]
  },
  {
   "cell_type": "code",
   "execution_count": 81,
   "metadata": {},
   "outputs": [
    {
     "name": "stdout",
     "output_type": "stream",
     "text": [
      "[2 0 1 2 1 2 0 1 2 0 1 0 1 0 1 2 0 2 1 2 0 2 1 1 2 0 1 2 1 2 1 2 0 1 0 2 1\n",
      " 0 2 0 0 1 0 2 0 2 1 0 2 0]\n",
      "[[165349.2 136897.8 471784.1 2]\n",
      " [162597.7 151377.59 443898.53 0]\n",
      " [153441.51 101145.55 407934.54 1]\n",
      " [144372.41 118671.85 383199.62 2]\n",
      " [142107.34 91391.77 366168.42 1]\n",
      " [131876.9 99814.71 362861.36 2]\n",
      " [134615.46 147198.87 127716.82 0]\n",
      " [130298.13 145530.06 323876.68 1]\n",
      " [120542.52 148718.95 311613.29 2]\n",
      " [123334.88 108679.17 304981.62 0]\n",
      " [101913.08 110594.11 229160.95 1]\n",
      " [100671.96 91790.61 249744.55 0]\n",
      " [93863.75 127320.38 249839.44 1]\n",
      " [91992.39 135495.07 252664.93 0]\n",
      " [119943.24 156547.42 256512.92 1]\n",
      " [114523.61 122616.84 261776.23 2]\n",
      " [78013.11 121597.55 264346.06 0]\n",
      " [94657.16 145077.58 282574.31 2]\n",
      " [91749.16 114175.79 294919.57 1]\n",
      " [86419.7 153514.11 0.0 2]\n",
      " [76253.86 113867.3 298664.47 0]\n",
      " [78389.47 153773.43 299737.29 2]\n",
      " [73994.56 122782.75 303319.26 1]\n",
      " [67532.53 105751.03 304768.73 1]\n",
      " [77044.01 99281.34 140574.81 2]\n",
      " [64664.71 139553.16 137962.62 0]\n",
      " [75328.87 144135.98 134050.07 1]\n",
      " [72107.6 127864.55 353183.81 2]\n",
      " [66051.52 182645.56 118148.2 1]\n",
      " [65605.48 153032.06 107138.38 2]\n",
      " [61994.48 115641.28 91131.24 1]\n",
      " [61136.38 152701.92 88218.23 2]\n",
      " [63408.86 129219.61 46085.25 0]\n",
      " [55493.95 103057.49 214634.81 1]\n",
      " [46426.07 157693.92 210797.67 0]\n",
      " [46014.02 85047.44 205517.64 2]\n",
      " [28663.76 127056.21 201126.82 1]\n",
      " [44069.95 51283.14 197029.42 0]\n",
      " [20229.59 65947.93 185265.1 2]\n",
      " [38558.51 82982.09 174999.3 0]\n",
      " [28754.33 118546.05 172795.67 0]\n",
      " [27892.92 84710.77 164470.71 1]\n",
      " [23640.93 96189.63 148001.11 0]\n",
      " [15505.73 127382.3 35534.17 2]\n",
      " [22177.74 154806.14 28334.72 0]\n",
      " [1000.23 124153.04 1903.93 2]\n",
      " [1315.46 115816.21 297114.46 1]\n",
      " [0.0 135426.92 0.0 0]\n",
      " [542.05 51743.15 0.0 2]\n",
      " [0.0 116983.8 45173.06 0]]\n",
      "[[0. 0. 0. ... 0. 0. 1.]\n",
      " [0. 0. 0. ... 1. 0. 0.]\n",
      " [0. 0. 0. ... 0. 1. 0.]\n",
      " ...\n",
      " [0. 0. 0. ... 1. 0. 0.]\n",
      " [1. 0. 0. ... 0. 0. 1.]\n",
      " [0. 0. 0. ... 1. 0. 0.]]\n"
     ]
    }
   ],
   "source": [
    "from sklearn.preprocessing import LabelEncoder, OneHotEncoder\n",
    "labelencoder_X =LabelEncoder()\n",
    "X[:,3] = labelencoder_X.fit_transform(X[:,3])\n",
    "#将label进行解码，变成无值性数据（方便电脑理解），即将具体的城市名字，比如这里有三个城市，0，1，2，那么编码对应不同的城市就是0，1或者2.\n",
    "#由于数据大小不代表任何意义，所以进行onehotencoder。\n",
    "print(X[:,3])\n",
    "print(X)\n",
    "onehotencoder = OneHotEncoder(sparse =False)#catergotical_features =[3]\n",
    "X = onehotencoder.fit_transform(X)#.toarray()\n",
    "print(X[:,1:])"
   ]
  },
  {
   "cell_type": "markdown",
   "metadata": {},
   "source": [
    "**Subtitle** avoid the dummy variable trap(删除高度相关的联系自变量，将其变成单一的数据变量)"
   ]
  },
  {
   "cell_type": "code",
   "execution_count": 86,
   "metadata": {},
   "outputs": [],
   "source": [
    "X = X[:,1:]"
   ]
  },
  {
   "cell_type": "code",
   "execution_count": 91,
   "metadata": {},
   "outputs": [
    {
     "name": "stdout",
     "output_type": "stream",
     "text": [
      "(15, 148) (15,)\n",
      "[[0. 0. 0. ... 0. 1. 0.]\n",
      " [0. 0. 0. ... 1. 0. 0.]\n",
      " [0. 0. 0. ... 0. 1. 0.]\n",
      " ...\n",
      " [0. 0. 0. ... 0. 1. 0.]\n",
      " [0. 0. 0. ... 1. 0. 0.]\n",
      " [0. 0. 0. ... 0. 1. 0.]] [103282.38 144259.4  146121.95  77798.83 191050.39 105008.31  81229.06\n",
      "  97483.56 110352.25 166187.94  96778.92  96479.51 105733.54  96712.8\n",
      " 124266.9 ]\n"
     ]
    }
   ],
   "source": [
    "from sklearn.model_selection import train_test_split\n",
    "X_train, X_test,Y_train, Y_test = train_test_split(X, Y, test_size =0.3, random_state =0)\n",
    "print(X_test.shape,Y_test.shape)\n",
    "print(X_test,Y_test)"
   ]
  },
  {
   "cell_type": "code",
   "execution_count": 92,
   "metadata": {
    "scrolled": true
   },
   "outputs": [
    {
     "data": {
      "text/plain": [
       "LinearRegression()"
      ]
     },
     "execution_count": 92,
     "metadata": {},
     "output_type": "execute_result"
    }
   ],
   "source": [
    "from sklearn.linear_model import LinearRegression\n",
    "regressor = LinearRegression()\n",
    "regressor.fit(X_train,Y_train)"
   ]
  },
  {
   "cell_type": "code",
   "execution_count": 94,
   "metadata": {},
   "outputs": [
    {
     "data": {
      "text/plain": [
       "[<matplotlib.lines.Line2D at 0x7fcf9c53bee0>]"
      ]
     },
     "execution_count": 94,
     "metadata": {},
     "output_type": "execute_result"
    },
    {
     "data": {
      "image/png": "[encoded data removed]",
      "text/plain": [
       "<Figure size 432x288 with 1 Axes>"
      ]
     },
     "metadata": {
      "needs_background": "light"
     },
     "output_type": "display_data"
    }
   ],
   "source": [
    "pred =regressor.predict(X_test)\n",
    "plt.scatter(X_test[:,1],Y_test)\n",
    "plt.plot(X_test[:,1],pred, color='red')\n",
    "#print(pred)"
   ]
  },
  {
   "cell_type": "code",
   "execution_count": null,
   "metadata": {},
   "outputs": [],
   "source": []
  },
  {
   "cell_type": "code",
   "execution_count": null,
   "metadata": {},
   "outputs": [],
   "source": []
  }
 ],
 "metadata": {
  "kernelspec": {
   "display_name": "Python 3",
   "language": "python",
   "name": "python3"
  },
  "language_info": {
   "codemirror_mode": {
    "name": "ipython",
    "version": 3
   },
   "file_extension": ".py",
   "mimetype": "text/x-python",
   "name": "python",
   "nbconvert_exporter": "python",
   "pygments_lexer": "ipython3",
   "version": "3.8.3"
  }
 },
 "nbformat": 4,
 "nbformat_minor": 4
}
